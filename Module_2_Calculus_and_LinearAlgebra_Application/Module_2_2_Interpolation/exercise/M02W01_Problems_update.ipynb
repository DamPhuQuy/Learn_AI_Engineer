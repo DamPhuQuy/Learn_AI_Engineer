{
 "cells": [
  {
   "cell_type": "markdown",
   "id": "0a39da04",
   "metadata": {},
   "source": [
    "## Exercise - M02W01 - Interpolation\n"
   ]
  },
  {
   "cell_type": "markdown",
   "id": "bcb69a01",
   "metadata": {},
   "source": [
    "##### Exercise 1 (programming skills for 2D data)\n"
   ]
  },
  {
   "cell_type": "code",
   "execution_count": null,
   "id": "1ba19606",
   "metadata": {},
   "outputs": [],
   "source": [
    "\"\"\"\n",
    "Given a list of lists (2D data); n rows and m column\n",
    "\n",
    "Question: write a function to compute summations for each row\n",
    "\n",
    "Examples\n",
    "Input:\n",
    "data = [[1, 2, 3],\n",
    "        [4, 5, 6],\n",
    "        [7, 8, 9]]\n",
    "\n",
    "Output:\n",
    "result = [6, 15, 24]\n",
    "\n",
    "----------------------------------\n",
    "Input:\n",
    "data = [[1, 2],\n",
    "        [3, 4],\n",
    "        [5, 6]]\n",
    "Output:\n",
    "[3, 7, 11]\n",
    "\"\"\""
   ]
  },
  {
   "cell_type": "code",
   "execution_count": 2,
   "id": "9d999bbb",
   "metadata": {},
   "outputs": [],
   "source": [
    "# implementation (way 1)\n",
    "def compute_sum(data):\n",
    "    result = []\n",
    "\n",
    "    # your code here\n",
    "    for row in data:\n",
    "        sum: int = 0\n",
    "        for col in row:\n",
    "            sum += col\n",
    "        result.append(sum)\n",
    "    return result\n",
    "\n",
    "\n",
    "# test case\n",
    "data = [[1, 2, 3], [4, 5, 6], [7, 8, 9]]\n",
    "assert compute_sum(data) == [6, 15, 24]\n",
    "\n",
    "data = [[1, 2], [3, 4], [5, 6]]\n",
    "assert compute_sum(data) == [3, 7, 11]"
   ]
  },
  {
   "cell_type": "code",
   "execution_count": 3,
   "id": "5af01b40",
   "metadata": {},
   "outputs": [
    {
     "name": "stdout",
     "output_type": "stream",
     "text": [
      "[14, 4, 10]\n"
     ]
    }
   ],
   "source": [
    "# multiple choice\n",
    "data = [[6, 8], [3, 1], [7, 3]]\n",
    "print(compute_sum(data))"
   ]
  },
  {
   "cell_type": "markdown",
   "id": "1aad14df",
   "metadata": {},
   "source": [
    "#### Exercise 2 (programming skills for 2D data)\n"
   ]
  },
  {
   "cell_type": "code",
   "execution_count": null,
   "id": "02eeb1c1",
   "metadata": {},
   "outputs": [],
   "source": [
    "\"\"\"\n",
    "Given a list of lists (2D data); n rows and n column (#rows==#columns)\n",
    "\n",
    "Question: write a function to transpose the data (change rows to columns and vice verse)\n",
    "\n",
    "Examples\n",
    "Input:\n",
    "data = [[1, 2, 3],\n",
    "        [4, 5, 6],\n",
    "        [7, 8, 9]]\n",
    "\n",
    "Output:\n",
    "result = [[1, 4, 7],\n",
    "          [2, 5, 8],\n",
    "          [3, 6, 9]]\n",
    "----------------------------\n",
    "Input:\n",
    "data = [[1, 2],\n",
    "        [4, 5]]\n",
    "\n",
    "Output:\n",
    "result = [[1, 4],\n",
    "          [2, 5]]\n",
    "\"\"\""
   ]
  },
  {
   "cell_type": "code",
   "execution_count": null,
   "id": "96d34bd8",
   "metadata": {},
   "outputs": [],
   "source": [
    "# implementation\n",
    "def transpose(data: list[list[int]]) -> list[list[int]]:\n",
    "    # your code here\n",
    "    result: list[list[int]] = [\n",
    "        [0 for _ in range(len(data))] for _ in range(len(data[0]))\n",
    "    ]\n",
    "    for i in range(len(data)):\n",
    "        for j in range(len(data[i])):\n",
    "            result[j][i] = data[i][j]\n",
    "    return result\n",
    "\n",
    "\n",
    "# test case\n",
    "data = [[1, 2, 3], [4, 5, 6], [7, 8, 9]]\n",
    "assert transpose(data) == [[1, 4, 7], [2, 5, 8], [3, 6, 9]]\n",
    "\n",
    "data = [[1, 2], [4, 5]]\n",
    "assert transpose(data) == [[1, 4], [2, 5]]"
   ]
  },
  {
   "cell_type": "code",
   "execution_count": null,
   "id": "0d74d06d",
   "metadata": {},
   "outputs": [
    {
     "name": "stdout",
     "output_type": "stream",
     "text": [
      "[[7, 3], [2, 5]]\n"
     ]
    }
   ],
   "source": [
    "# multiple choice\n",
    "data = [[7, 2], [3, 5]]\n",
    "print(transpose(data))"
   ]
  },
  {
   "cell_type": "markdown",
   "id": "bd7100a4",
   "metadata": {},
   "source": [
    "#### Exercise 3 (nearest neighbor interpolation for 1D data)\n"
   ]
  },
  {
   "cell_type": "code",
   "execution_count": null,
   "id": "03d63567",
   "metadata": {},
   "outputs": [],
   "source": [
    "\"\"\"\n",
    "Given a list of numbers (length n) and a factor k\n",
    "\n",
    "Question: write a function to interpolate the list to a target (new list)\n",
    "with the length of n*k using nearest neighbor interpolation\n",
    "\n",
    "Examples\n",
    "Input:\n",
    "data = [1, 2, 3]\n",
    "k = 2\n",
    "\n",
    "Output:\n",
    "result = [1, 1, 2, 2, 3, 3]\n",
    "---------------------------\n",
    "Input:\n",
    "data = [1, 2, 3]\n",
    "k = 3\n",
    "\n",
    "Output:\n",
    "result = [1, 1, 1, 2, 2, 2, 3, 3, 3]\n",
    "\"\"\""
   ]
  },
  {
   "cell_type": "code",
   "execution_count": 5,
   "id": "8c6e0299",
   "metadata": {},
   "outputs": [],
   "source": [
    "# implementation\n",
    "def nni_1d(data: list[int], k: int):\n",
    "    # your code here\n",
    "    result: list[int] = []\n",
    "    for element in data:\n",
    "        for _ in range(k):\n",
    "            result.append(element)\n",
    "    return result\n",
    "\n",
    "\n",
    "# test case\n",
    "data: list[int] = [1, 2, 3]\n",
    "k = 2\n",
    "assert nni_1d(data, k) == [1, 1, 2, 2, 3, 3]\n",
    "\n",
    "data = [1, 2, 3]\n",
    "k = 3\n",
    "assert nni_1d(data, k) == [1, 1, 1, 2, 2, 2, 3, 3, 3]"
   ]
  },
  {
   "cell_type": "code",
   "execution_count": 17,
   "id": "2f2bd3ce",
   "metadata": {},
   "outputs": [
    {
     "name": "stdout",
     "output_type": "stream",
     "text": [
      "[5, 5, 5, 7, 7, 7]\n"
     ]
    }
   ],
   "source": [
    "# multiple choice\n",
    "data = [5, 7]\n",
    "k = 3\n",
    "print(nni_1d(data, k))"
   ]
  },
  {
   "cell_type": "markdown",
   "id": "92f59b82",
   "metadata": {},
   "source": [
    "#### Exercise 4 (nearest neighbor interpolation for 2D data)\n"
   ]
  },
  {
   "cell_type": "code",
   "execution_count": null,
   "id": "bc83e9bc",
   "metadata": {},
   "outputs": [],
   "source": [
    "\"\"\"\n",
    "Given a list of lists of numbers (n rows and m columns) and a factor k\n",
    "\n",
    "Question: write a function to interpolate each row of the list to a target\n",
    "(a new list with n rows and m*k columns) using nearest neighbor interpolation\n",
    "\n",
    "Examples\n",
    "Input:\n",
    "data = [[1, 2, 3],\n",
    "        [4, 5, 6],\n",
    "        [7, 8, 9]]\n",
    "k = 2\n",
    "\n",
    "Output:\n",
    "result = [[1, 1, 2, 2, 3, 3],\n",
    "          [4, 4, 5, 5, 6, 6],\n",
    "          [7, 7, 8, 8, 9, 9]]\n",
    "---------------------------------\n",
    "Input:\n",
    "data = [[1, 2],\n",
    "        [4, 5],\n",
    "        [7, 8]]\n",
    "k = 2\n",
    "\n",
    "Output:\n",
    "result = [[1, 1, 2, 2],\n",
    "          [4, 4, 5, 5],\n",
    "          [7, 7, 8, 8]]\n",
    "\"\"\""
   ]
  },
  {
   "cell_type": "code",
   "execution_count": 6,
   "id": "4e43567c",
   "metadata": {},
   "outputs": [],
   "source": [
    "# implementation\n",
    "def h_nni_2d(data: list[list[int]], k: int):\n",
    "    # your code here\n",
    "    result: list[list[int]] = []\n",
    "    for row in data:\n",
    "        result.append(nni_1d(row, k))\n",
    "    return result\n",
    "\n",
    "\n",
    "# test case\n",
    "data = [[1, 2, 3], [4, 5, 6], [7, 8, 9]]\n",
    "k = 2\n",
    "assert h_nni_2d(data, k) == [\n",
    "    [1, 1, 2, 2, 3, 3],\n",
    "    [4, 4, 5, 5, 6, 6],\n",
    "    [7, 7, 8, 8, 9, 9],\n",
    "]\n",
    "\n",
    "data = [[1, 2], [4, 5], [7, 8]]\n",
    "k = 2\n",
    "assert h_nni_2d(data, k) == [[1, 1, 2, 2], [4, 4, 5, 5], [7, 7, 8, 8]]"
   ]
  },
  {
   "cell_type": "code",
   "execution_count": 7,
   "id": "e8b2172c",
   "metadata": {},
   "outputs": [
    {
     "name": "stdout",
     "output_type": "stream",
     "text": [
      "[[3, 3, 3], [4, 4, 4]]\n"
     ]
    }
   ],
   "source": [
    "# multiple choice\n",
    "data = [[3], [4]]\n",
    "k = 3\n",
    "print(h_nni_2d(data, k))"
   ]
  },
  {
   "cell_type": "markdown",
   "id": "31d95e15",
   "metadata": {},
   "source": [
    "#### Exercise 5 (nearest neighbor interpolation for 2D data)\n"
   ]
  },
  {
   "cell_type": "code",
   "execution_count": null,
   "id": "c2f4c78a",
   "metadata": {},
   "outputs": [],
   "source": [
    "\"\"\"\n",
    "Given a list of lists of numbers (n rows and m columns) and a factor k\n",
    "\n",
    "Question: write a function to interpolate each column of the list to a target\n",
    "(a new list with n*k rows and m columns) using nearest neighbor interpolation\n",
    "\n",
    "Examples\n",
    "Input:\n",
    "data = [[1, 2, 3],\n",
    "        [4, 5, 6],\n",
    "        [7, 8, 9]]\n",
    "k = 2\n",
    "\n",
    "Output:\n",
    "result = [[1, 2, 3],\n",
    "          [1, 2, 3],\n",
    "          [4, 5, 6]\n",
    "          [4, 5, 6],\n",
    "          [7, 8, 9],\n",
    "          [7, 8, 9]]\n",
    "-------------------------\n",
    "Input:\n",
    "data = [[1, 2],\n",
    "        [4, 5],\n",
    "        [7, 8]]\n",
    "k = 2\n",
    "\n",
    "Output:\n",
    "result = [[1, 2],\n",
    "          [1, 2],\n",
    "          [4, 5],\n",
    "          [4, 5],\n",
    "          [7, 8],\n",
    "          [7, 8]]\n",
    "\"\"\""
   ]
  },
  {
   "cell_type": "code",
   "execution_count": null,
   "id": "916e8965",
   "metadata": {},
   "outputs": [],
   "source": [
    "# implementation\n",
    "def v_nni_2d(data: list[list[int]], k: int):\n",
    "    # your code here\n",
    "    result: list[list[int]] = []\n",
    "    for row in data:\n",
    "        for _ in range(k):\n",
    "            result.append(row)\n",
    "\n",
    "    return result\n",
    "\n",
    "\n",
    "# test case\n",
    "data = [[1, 2, 3], [4, 5, 6], [7, 8, 9]]\n",
    "k = 2\n",
    "assert v_nni_2d(data, k) == [\n",
    "    [1, 2, 3],\n",
    "    [1, 2, 3],\n",
    "    [4, 5, 6],\n",
    "    [4, 5, 6],\n",
    "    [7, 8, 9],\n",
    "    [7, 8, 9],\n",
    "]\n",
    "\n",
    "data = [[1, 2], [4, 5], [7, 8]]\n",
    "k = 2\n",
    "assert v_nni_2d(data, k) == [[1, 2], [1, 2], [4, 5], [4, 5], [7, 8], [7, 8]]"
   ]
  },
  {
   "cell_type": "code",
   "execution_count": 9,
   "id": "c8938639",
   "metadata": {},
   "outputs": [
    {
     "name": "stdout",
     "output_type": "stream",
     "text": [
      "[[3, 7], [3, 7]]\n"
     ]
    }
   ],
   "source": [
    "# multiple choice\n",
    "data = [[3, 7]]\n",
    "k = 2\n",
    "print(v_nni_2d(data, k))"
   ]
  },
  {
   "cell_type": "markdown",
   "id": "ad49e9bb",
   "metadata": {},
   "source": [
    "#### Exercise 6 (nearest neighbor interpolation for 2D data)\n"
   ]
  },
  {
   "cell_type": "code",
   "execution_count": null,
   "id": "84a9b16e",
   "metadata": {},
   "outputs": [],
   "source": [
    "\"\"\"\n",
    "Given a list of lists of numbers (n rows and m columns) and a factor k\n",
    "\n",
    "Question: write a function to interpolate the list to a target\n",
    "(a new list with n*k rows and m*k columns) using nearest neighbor interpolation\n",
    "\n",
    "Examples\n",
    "Input:\n",
    "data = [[1, 2, 3],\n",
    "        [4, 5, 6],\n",
    "        [7, 8, 9]]\n",
    "k = 2\n",
    "\n",
    "Output:\n",
    "result = [[1, 1, 2, 2, 3, 3],\n",
    "          [1, 1, 2, 2, 3, 3],\n",
    "          [4, 4, 5, 5, 6, 6],\n",
    "          [4, 4, 5, 5, 6, 6],\n",
    "          [7, 7, 8, 8, 9, 9],\n",
    "          [7, 7, 8, 8, 9, 9]]\n",
    "-----------------------------\n",
    "Input:\n",
    "data = [[1, 2],\n",
    "        [4, 5],\n",
    "        [7, 8]]\n",
    "k = 2\n",
    "\n",
    "Output:\n",
    "result = [[1, 1, 2, 2],\n",
    "          [1, 1, 2, 2],\n",
    "          [4, 4, 5, 5],\n",
    "          [4, 4, 5, 5],\n",
    "          [7, 7, 8, 8],\n",
    "          [7, 7, 8, 8]]\n",
    "\"\"\""
   ]
  },
  {
   "cell_type": "code",
   "execution_count": 11,
   "id": "c28d708a",
   "metadata": {},
   "outputs": [],
   "source": [
    "# implementation\n",
    "from unittest import result\n",
    "\n",
    "\n",
    "def nni_2d(data: list[list[int]], k: int) -> list[list[int]]:\n",
    "    # your code here\n",
    "    result: list[list[int]] = h_nni_2d(data, k)\n",
    "    return v_nni_2d(result, k)\n",
    "\n",
    "\n",
    "# test case\n",
    "data = [[1, 2, 3], [4, 5, 6], [7, 8, 9]]\n",
    "k = 2\n",
    "assert nni_2d(data, k) == [\n",
    "    [1, 1, 2, 2, 3, 3],\n",
    "    [1, 1, 2, 2, 3, 3],\n",
    "    [4, 4, 5, 5, 6, 6],\n",
    "    [4, 4, 5, 5, 6, 6],\n",
    "    [7, 7, 8, 8, 9, 9],\n",
    "    [7, 7, 8, 8, 9, 9],\n",
    "]\n",
    "\n",
    "data = [[1, 2], [4, 5], [7, 8]]\n",
    "k = 2\n",
    "assert nni_2d(data, k) == [\n",
    "    [1, 1, 2, 2],\n",
    "    [1, 1, 2, 2],\n",
    "    [4, 4, 5, 5],\n",
    "    [4, 4, 5, 5],\n",
    "    [7, 7, 8, 8],\n",
    "    [7, 7, 8, 8],\n",
    "]"
   ]
  },
  {
   "cell_type": "code",
   "execution_count": 12,
   "id": "c2189c6d",
   "metadata": {},
   "outputs": [
    {
     "name": "stdout",
     "output_type": "stream",
     "text": [
      "[[1, 1, 2, 2, 3, 3, 4, 4], [1, 1, 2, 2, 3, 3, 4, 4]]\n"
     ]
    }
   ],
   "source": [
    "# multiple choice\n",
    "data = [[1, 2, 3, 4]]\n",
    "k = 2\n",
    "print(nni_2d(data, k))"
   ]
  },
  {
   "cell_type": "code",
   "execution_count": null,
   "id": "68f6f890",
   "metadata": {},
   "outputs": [],
   "source": []
  },
  {
   "cell_type": "markdown",
   "id": "fe987200",
   "metadata": {},
   "source": [
    "#### Exercise 7 (linear interpolation for 1D data)\n"
   ]
  },
  {
   "cell_type": "code",
   "execution_count": null,
   "id": "44a84da9",
   "metadata": {},
   "outputs": [],
   "source": [
    "\"\"\"\n",
    "Given a list of numbers (length n) and a factor k\n",
    "\n",
    "Question: write a function to interpolate the list to a target (new list)\n",
    "with the length of n*k using linear interpolation. Note that, for the sake of simplicity,\n",
    "you can ignore the last (k-1) element.\n",
    "\n",
    "Examples\n",
    "Input:\n",
    "data = [1, 2, 3]\n",
    "k = 2\n",
    "\n",
    "Output:\n",
    "result = [1.0, 1.5, 2.0, 2.5, 3.0, x]\n",
    "\n",
    "---------------------------------------\n",
    "Input:\n",
    "data = [1, 4, 7]\n",
    "k = 3\n",
    "\n",
    "Output:\n",
    "result = [1, 2.0, 3.0, 4, 5.0, 6.0, 7, x, x]\n",
    "\"\"\""
   ]
  },
  {
   "cell_type": "code",
   "execution_count": 38,
   "id": "c88f42a0",
   "metadata": {},
   "outputs": [
    {
     "name": "stdout",
     "output_type": "stream",
     "text": [
      "[1, 1.5, 2, 2.5, 3, 0]\n",
      "[1, 2.0, 3.0, 4, 5.0, 6.0, 7, 0, 0]\n"
     ]
    }
   ],
   "source": [
    "def linear_interpolation(p1: tuple[int, int], p2: tuple[int, int], x: float):\n",
    "    x1, y1 = p1  # unpacking\n",
    "    x2, y2 = p2  # unpacking\n",
    "    alpha1: float = (x2 - x) / (x2 - x1)\n",
    "    alpha2: float = (x - x1) / (x2 - x1)\n",
    "    if x1 != x2:\n",
    "        y: float = alpha1 * y1 + alpha2 * y2\n",
    "    else:\n",
    "        y = y1\n",
    "    return y\n",
    "\n",
    "\n",
    "def li_1d(data: list[int], k: int):\n",
    "    result: list[int | float] = []\n",
    "    n = len(data)\n",
    "\n",
    "    for i in range(n - 1):\n",
    "        point1: tuple[int, int] = (i, data[i])\n",
    "        point2: tuple[int, int] = (i + 1, data[i + 1])\n",
    "        result.append(point1[1])\n",
    "\n",
    "        # add k - 1 point\n",
    "        for j in range(1, k):\n",
    "            x = i + j / k  # avg\n",
    "            y = linear_interpolation(point1, point2, x)\n",
    "            result.append(y)\n",
    "\n",
    "    result.append(data[len(data) - 1])\n",
    "\n",
    "    while len(result) < n * k:\n",
    "        result.append(0)\n",
    "    print(result)\n",
    "    return result\n",
    "\n",
    "\n",
    "# test case\n",
    "data = [1, 2, 3]\n",
    "k = 2\n",
    "assert li_1d(data, k)[:-1] == [1, 1.5, 2, 2.5, 3, 0][:-1]\n",
    "\n",
    "data = [1, 4, 7]\n",
    "k = 3\n",
    "assert li_1d(data, k)[:-2] == [1, 2.0, 3.0, 4, 5.0, 6.0, 7, 0, 0][:-2]"
   ]
  },
  {
   "cell_type": "markdown",
   "id": "1a891076",
   "metadata": {},
   "source": [
    "data = [7, 10]\n",
    "k = 3\n",
    "print(li_1d(data, k)[:-2])\n"
   ]
  },
  {
   "cell_type": "markdown",
   "id": "640b9dfc",
   "metadata": {},
   "source": [
    "#### Exercise 8 (linear interpolation for 1D data)\n"
   ]
  },
  {
   "cell_type": "code",
   "execution_count": null,
   "id": "15e40102",
   "metadata": {},
   "outputs": [],
   "source": [
    "\"\"\"\n",
    "Cho trước ảnh đầu vào (\\href{https://www.dropbox.com/s/egvsa9q82dott6e/tree.jpg?dl=0}{link1} hoặc\n",
    "\\href{https://drive.google.com/file/d/18mXixOyP6VKzDhxGuZBjxHNhesJKDQWi/view?usp=sharing}{link2})\n",
    "có kích thước dài 400 và rộng 400:\n",
    "\n",
    "Phát triển chương trình để tăng kích thước ảnh đầu vào (400x400) và thành ảnh mới (1200 x1200)\n",
    "sử dụng kỹ thuật nội suy nearest-neighbor hoặc linear.\n",
    "\"\"\""
   ]
  },
  {
   "cell_type": "code",
   "execution_count": null,
   "id": "0b3c6506",
   "metadata": {},
   "outputs": [],
   "source": [
    "import cv2\n",
    "import numpy as np\n",
    "import math\n",
    "\n",
    "\n",
    "def resize_nni(source, source_h, source_w, target_h, target_w):\n",
    "    new_data = [[0] * target_w for _ in range(target_h)]\n",
    "\n",
    "    # Calculate horizontal and vertical scaling factor\n",
    "    w_scale_factor = source_w / target_w\n",
    "    h_scale_factor = source_h / target_h\n",
    "\n",
    "    # your code here\n",
    "\n",
    "    return new_data\n",
    "\n",
    "\n",
    "image = cv2.imread(\"tree.jpg\", 0).tolist()\n",
    "\n",
    "height = len(image)\n",
    "width = len(image[0])\n",
    "\n",
    "new_image = resize_nni(image, height, width, height * 3, width * 3)\n",
    "cv2.imwrite(\"tree_2x.jpg\", np.array(new_image))"
   ]
  },
  {
   "cell_type": "code",
   "execution_count": null,
   "id": "f4ccaaa0",
   "metadata": {},
   "outputs": [],
   "source": []
  }
 ],
 "metadata": {
  "kernelspec": {
   "display_name": "Python 3",
   "language": "python",
   "name": "python3"
  },
  "language_info": {
   "codemirror_mode": {
    "name": "ipython",
    "version": 3
   },
   "file_extension": ".py",
   "mimetype": "text/x-python",
   "name": "python",
   "nbconvert_exporter": "python",
   "pygments_lexer": "ipython3",
   "version": "3.12.10"
  }
 },
 "nbformat": 4,
 "nbformat_minor": 5
}
